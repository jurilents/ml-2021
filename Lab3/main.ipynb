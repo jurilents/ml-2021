{
 "cells": [
  {
   "cell_type": "markdown",
   "metadata": {},
   "source": [
    "# Лабораторна робота #3\n",
    "## З дисципліни Інтелектуальний аналіз даних\n",
    "## Студента групи МІТ-31\n",
    "## __Єрмакова Юрія__\n"
   ]
  },
  {
   "cell_type": "markdown",
   "metadata": {},
   "source": [
    "## Базова ініціалізація"
   ]
  },
  {
   "cell_type": "code",
   "execution_count": 301,
   "metadata": {},
   "outputs": [],
   "source": [
    "import numpy as np\n",
    "import pandas as pd\n",
    "import seaborn as sns\n",
    "import matplotlib.pyplot as plt\n",
    "import sklearn.model_selection as model_selection\n",
    "import sklearn.linear_model as linear_model\n",
    "import sklearn.datasets as datasets\n",
    "from sklearn import preprocessing, neighbors, metrics\n"
   ]
  },
  {
   "cell_type": "markdown",
   "metadata": {},
   "source": [
    "1. Створити набір даних за допомогою DatasetGenerator"
   ]
  },
  {
   "cell_type": "code",
   "execution_count": 302,
   "metadata": {},
   "outputs": [],
   "source": [
    "COUNT = 721\n",
    "\n",
    "x, y = datasets.make_classification(n_samples=COUNT, n_features=200, class_sep=0.95, random_state=0)\n",
    "model_1 = model_selection.train_test_split(x, y, test_size=0.66, random_state=0),\n",
    "\n",
    "model_2 = pd.DataFrame(data={\n",
    "    'x': [np.random.uniform(-4.0, 4.0) for _ in range(COUNT)],\n",
    "    'y': [np.random.uniform(-180.0, 180.0) for _ in range(COUNT)],\n",
    "    'z': ['90.0' for _ in range(COUNT)]\n",
    "})"
   ]
  },
  {
   "cell_type": "markdown",
   "metadata": {},
   "source": [
    "2. Завантажити набір даних для класифікації на сайті (у кожного студента має бути інший - прошу організуватись відповідним чином)"
   ]
  },
  {
   "cell_type": "code",
   "execution_count": 303,
   "metadata": {},
   "outputs": [
    {
     "data": {
      "text/html": [
       "<div>\n",
       "<style scoped>\n",
       "    .dataframe tbody tr th:only-of-type {\n",
       "        vertical-align: middle;\n",
       "    }\n",
       "\n",
       "    .dataframe tbody tr th {\n",
       "        vertical-align: top;\n",
       "    }\n",
       "\n",
       "    .dataframe thead th {\n",
       "        text-align: right;\n",
       "    }\n",
       "</style>\n",
       "<table border=\"1\" class=\"dataframe\">\n",
       "  <thead>\n",
       "    <tr style=\"text-align: right;\">\n",
       "      <th></th>\n",
       "      <th>#</th>\n",
       "      <th>Name</th>\n",
       "      <th>Type 1</th>\n",
       "      <th>Type 2</th>\n",
       "      <th>Total</th>\n",
       "      <th>HP</th>\n",
       "      <th>Attack</th>\n",
       "      <th>Defense</th>\n",
       "      <th>Sp. Atk</th>\n",
       "      <th>Sp. Def</th>\n",
       "      <th>Speed</th>\n",
       "      <th>Generation</th>\n",
       "      <th>Legendary</th>\n",
       "    </tr>\n",
       "  </thead>\n",
       "  <tbody>\n",
       "    <tr>\n",
       "      <th>0</th>\n",
       "      <td>1</td>\n",
       "      <td>Bulbasaur</td>\n",
       "      <td>Grass</td>\n",
       "      <td>Poison</td>\n",
       "      <td>318</td>\n",
       "      <td>45</td>\n",
       "      <td>49</td>\n",
       "      <td>49</td>\n",
       "      <td>65</td>\n",
       "      <td>65</td>\n",
       "      <td>45</td>\n",
       "      <td>1</td>\n",
       "      <td>False</td>\n",
       "    </tr>\n",
       "    <tr>\n",
       "      <th>1</th>\n",
       "      <td>2</td>\n",
       "      <td>Ivysaur</td>\n",
       "      <td>Grass</td>\n",
       "      <td>Poison</td>\n",
       "      <td>405</td>\n",
       "      <td>60</td>\n",
       "      <td>62</td>\n",
       "      <td>63</td>\n",
       "      <td>80</td>\n",
       "      <td>80</td>\n",
       "      <td>60</td>\n",
       "      <td>1</td>\n",
       "      <td>False</td>\n",
       "    </tr>\n",
       "    <tr>\n",
       "      <th>2</th>\n",
       "      <td>3</td>\n",
       "      <td>Venusaur</td>\n",
       "      <td>Grass</td>\n",
       "      <td>Poison</td>\n",
       "      <td>525</td>\n",
       "      <td>80</td>\n",
       "      <td>82</td>\n",
       "      <td>83</td>\n",
       "      <td>100</td>\n",
       "      <td>100</td>\n",
       "      <td>80</td>\n",
       "      <td>1</td>\n",
       "      <td>False</td>\n",
       "    </tr>\n",
       "    <tr>\n",
       "      <th>3</th>\n",
       "      <td>3</td>\n",
       "      <td>VenusaurMega Venusaur</td>\n",
       "      <td>Grass</td>\n",
       "      <td>Poison</td>\n",
       "      <td>625</td>\n",
       "      <td>80</td>\n",
       "      <td>100</td>\n",
       "      <td>123</td>\n",
       "      <td>122</td>\n",
       "      <td>120</td>\n",
       "      <td>80</td>\n",
       "      <td>1</td>\n",
       "      <td>False</td>\n",
       "    </tr>\n",
       "    <tr>\n",
       "      <th>4</th>\n",
       "      <td>4</td>\n",
       "      <td>Charmander</td>\n",
       "      <td>Fire</td>\n",
       "      <td>NaN</td>\n",
       "      <td>309</td>\n",
       "      <td>39</td>\n",
       "      <td>52</td>\n",
       "      <td>43</td>\n",
       "      <td>60</td>\n",
       "      <td>50</td>\n",
       "      <td>65</td>\n",
       "      <td>1</td>\n",
       "      <td>False</td>\n",
       "    </tr>\n",
       "    <tr>\n",
       "      <th>...</th>\n",
       "      <td>...</td>\n",
       "      <td>...</td>\n",
       "      <td>...</td>\n",
       "      <td>...</td>\n",
       "      <td>...</td>\n",
       "      <td>...</td>\n",
       "      <td>...</td>\n",
       "      <td>...</td>\n",
       "      <td>...</td>\n",
       "      <td>...</td>\n",
       "      <td>...</td>\n",
       "      <td>...</td>\n",
       "      <td>...</td>\n",
       "    </tr>\n",
       "    <tr>\n",
       "      <th>795</th>\n",
       "      <td>719</td>\n",
       "      <td>Diancie</td>\n",
       "      <td>Rock</td>\n",
       "      <td>Fairy</td>\n",
       "      <td>600</td>\n",
       "      <td>50</td>\n",
       "      <td>100</td>\n",
       "      <td>150</td>\n",
       "      <td>100</td>\n",
       "      <td>150</td>\n",
       "      <td>50</td>\n",
       "      <td>6</td>\n",
       "      <td>True</td>\n",
       "    </tr>\n",
       "    <tr>\n",
       "      <th>796</th>\n",
       "      <td>719</td>\n",
       "      <td>DiancieMega Diancie</td>\n",
       "      <td>Rock</td>\n",
       "      <td>Fairy</td>\n",
       "      <td>700</td>\n",
       "      <td>50</td>\n",
       "      <td>160</td>\n",
       "      <td>110</td>\n",
       "      <td>160</td>\n",
       "      <td>110</td>\n",
       "      <td>110</td>\n",
       "      <td>6</td>\n",
       "      <td>True</td>\n",
       "    </tr>\n",
       "    <tr>\n",
       "      <th>797</th>\n",
       "      <td>720</td>\n",
       "      <td>HoopaHoopa Confined</td>\n",
       "      <td>Psychic</td>\n",
       "      <td>Ghost</td>\n",
       "      <td>600</td>\n",
       "      <td>80</td>\n",
       "      <td>110</td>\n",
       "      <td>60</td>\n",
       "      <td>150</td>\n",
       "      <td>130</td>\n",
       "      <td>70</td>\n",
       "      <td>6</td>\n",
       "      <td>True</td>\n",
       "    </tr>\n",
       "    <tr>\n",
       "      <th>798</th>\n",
       "      <td>720</td>\n",
       "      <td>HoopaHoopa Unbound</td>\n",
       "      <td>Psychic</td>\n",
       "      <td>Dark</td>\n",
       "      <td>680</td>\n",
       "      <td>80</td>\n",
       "      <td>160</td>\n",
       "      <td>60</td>\n",
       "      <td>170</td>\n",
       "      <td>130</td>\n",
       "      <td>80</td>\n",
       "      <td>6</td>\n",
       "      <td>True</td>\n",
       "    </tr>\n",
       "    <tr>\n",
       "      <th>799</th>\n",
       "      <td>721</td>\n",
       "      <td>Volcanion</td>\n",
       "      <td>Fire</td>\n",
       "      <td>Water</td>\n",
       "      <td>600</td>\n",
       "      <td>80</td>\n",
       "      <td>110</td>\n",
       "      <td>120</td>\n",
       "      <td>130</td>\n",
       "      <td>90</td>\n",
       "      <td>70</td>\n",
       "      <td>6</td>\n",
       "      <td>True</td>\n",
       "    </tr>\n",
       "  </tbody>\n",
       "</table>\n",
       "<p>800 rows × 13 columns</p>\n",
       "</div>"
      ],
      "text/plain": [
       "       #                   Name   Type 1  Type 2  Total  HP  Attack  Defense  \\\n",
       "0      1              Bulbasaur    Grass  Poison    318  45      49       49   \n",
       "1      2                Ivysaur    Grass  Poison    405  60      62       63   \n",
       "2      3               Venusaur    Grass  Poison    525  80      82       83   \n",
       "3      3  VenusaurMega Venusaur    Grass  Poison    625  80     100      123   \n",
       "4      4             Charmander     Fire     NaN    309  39      52       43   \n",
       "..   ...                    ...      ...     ...    ...  ..     ...      ...   \n",
       "795  719                Diancie     Rock   Fairy    600  50     100      150   \n",
       "796  719    DiancieMega Diancie     Rock   Fairy    700  50     160      110   \n",
       "797  720    HoopaHoopa Confined  Psychic   Ghost    600  80     110       60   \n",
       "798  720     HoopaHoopa Unbound  Psychic    Dark    680  80     160       60   \n",
       "799  721              Volcanion     Fire   Water    600  80     110      120   \n",
       "\n",
       "     Sp. Atk  Sp. Def  Speed  Generation  Legendary  \n",
       "0         65       65     45           1      False  \n",
       "1         80       80     60           1      False  \n",
       "2        100      100     80           1      False  \n",
       "3        122      120     80           1      False  \n",
       "4         60       50     65           1      False  \n",
       "..       ...      ...    ...         ...        ...  \n",
       "795      100      150     50           6       True  \n",
       "796      160      110    110           6       True  \n",
       "797      150      130     70           6       True  \n",
       "798      170      130     80           6       True  \n",
       "799      130       90     70           6       True  \n",
       "\n",
       "[800 rows x 13 columns]"
      ]
     },
     "execution_count": 303,
     "metadata": {},
     "output_type": "execute_result"
    }
   ],
   "source": [
    "model = pd.read_csv('./Pokemon.csv')\n",
    "model"
   ]
  },
  {
   "cell_type": "code",
   "execution_count": 304,
   "metadata": {},
   "outputs": [
    {
     "data": {
      "image/png": "[encoded data removed]",
      "text/plain": [
       "<Figure size 567.75x504 with 1 Axes>"
      ]
     },
     "metadata": {
      "needs_background": "light"
     },
     "output_type": "display_data"
    }
   ],
   "source": [
    "HUE = 'Generation'\n",
    "# HUE = 'Legendary'\n",
    "\n",
    "sns.FacetGrid(model, hue=HUE, height=7).map(plt.scatter, 'HP', 'Total').add_legend()\n",
    "\n",
    "plt.show()"
   ]
  },
  {
   "cell_type": "markdown",
   "metadata": {},
   "source": [
    "## 1"
   ]
  },
  {
   "cell_type": "code",
   "execution_count": 305,
   "metadata": {},
   "outputs": [
    {
     "name": "stdout",
     "output_type": "stream",
     "text": [
      "\n",
      "Features: ['HP', 'Attack', 'Defense', 'Sp. Atk', 'Sp. Def']\n",
      "Target: Total\n",
      "\n",
      "X: (800, 5)\n",
      "Y: (800,)\n"
     ]
    }
   ],
   "source": [
    "features = list(model.columns[5:10])          \n",
    "target = model.columns[4]                      \n",
    "\n",
    "# feature matrix\n",
    "x = model.iloc[:,5:10]\n",
    "\n",
    "# response vector\n",
    "y = model.iloc[:,4]\n",
    "\n",
    "print()\n",
    "print(f'Features: {features}')\n",
    "print(f'Target: {target}')\n",
    "\n",
    "print()\n",
    "print(f'X: {x.shape}')\n",
    "print(f'Y: {y.shape}')\n"
   ]
  },
  {
   "cell_type": "code",
   "execution_count": 306,
   "metadata": {},
   "outputs": [
    {
     "name": "stdout",
     "output_type": "stream",
     "text": [
      "Classes: [180 190 194 195 198 200 205 210 213 215 218 220 224 236 237 240 244 245\n",
      " 250 251 253 255 260 262 263 264 265 266 269 270 273 275 278 280 281 285\n",
      " 288 289 290 292 294 295 299 300 302 303 304 305 306 307 308 309 310 313\n",
      " 314 315 316 318 319 320 323 325 328 329 330 334 335 336 340 341 345 348\n",
      " 349 350 351 352 355 358 360 362 363 365 369 370 371 375 380 382 384 385\n",
      " 390 395 400 401 405 409 410 411 413 414 415 418 420 423 424 425 428 430\n",
      " 431 435 438 440 442 445 446 448 450 452 454 455 456 458 460 461 462 464\n",
      " 465 466 467 468 470 471 472 473 474 475 479 480 481 482 483 484 485 487\n",
      " 488 489 490 494 495 497 498 499 500 505 507 508 509 510 514 515 518 519\n",
      " 520 521 523 525 528 530 531 534 535 540 545 550 552 555 560 565 567 575\n",
      " 579 580 590 594 600 610 615 618 625 630 634 635 640 660 670 680 700 720\n",
      " 770 780]\n",
      "Encoded: [ 57  94 165 188  51  94 169 190 190  54  94 167 189   3   6  91   3   6\n",
      "  91 148  19  72 136 180  20  98  23 112  36 110  59 142  43 116  31  81\n",
      " 153  30  81 153  60 140  42 153  29 109  17 119  59  91 146  35  94  47\n",
      " 116  26  94  38 111  59 152  47 119  73 175  43  89 157  52  92 152 182\n",
      "  47  94 153  43  90 146  66 159  43  90 148  96 152  55 146 182  61 126\n",
      "  75  52 122  61 135  61 152  47 165  52  94 152 184  89  62 140  61 135\n",
      "  64 137  61 162  59 105 119 119  89  68 146  70 142 116 109 146 182  41\n",
      " 111  59 116  68 162 122 152 119 146 148 152 184 146   5 171 192 170  36\n",
      "  61 165 165 165  91  76 148  76 148 159 186 171 181 181 181  43 102 184\n",
      " 195 199 199 184  57  94 165  51  94 169  54  94 167   9 100  23 112  26\n",
      "  90  18  90 170  64 122   6  10   7  17  94  59 130  33  81 157 185 146\n",
      "  18 102  96 152  18  68 122  78   0 105  90   7 107 165 165  94 146 109\n",
      "  67  94 119  38 126 100 107 157 185  43 116 107 152 184 153 152 184 107\n",
      "  64 152  18  96  18 116  86  43 137  64 126 126  64 152 184 171  64 152\n",
      " 159 126  18   7 119  47  78  81 146 171 181 181 181  43  96 184 196 195\n",
      " 195 184  52  94 167 189  52  94 167 189  52  94 170 191  11 102  15 102\n",
      "   3   6  91   6  89  11  68 137  11  68 137  29 107  29 107   4  32 160\n",
      " 187  28  99  41 122  33 111 194  27 120  13  15  78 146  14 134   1  85\n",
      "  22  86  86 137  86 137  64 107 167 189  33  96 157  41 135 179  94  94\n",
      "  92  92  92  44 128  47 122 176  92 152  47 122 176 130  64 130  78  38\n",
      "  68 162  66 135  52 146 182 121 121 111 111  36 129  50 129  43 152  76\n",
      " 148  76 148   5 171 102 111  41 119 175  41 119 122 105 126 177  22  43\n",
      " 137 181  38  96 167  70 142 142 142  64  43 102 184 196  43 102 184 196\n",
      " 181 181 181 184 196 184 196 194 198 194 198 195 199 184 184 184 184 184\n",
      "  57  94 165  51  94 169  54  94 167  17  68 142  18  96   2  88  24  80\n",
      " 164  33 159  73 148  73 148  12 104 104 104 104  16 134  94  64 148  31\n",
      " 116  61 135 139  71 150  73 137 181 148 153  52 117  35  63 136  43 152\n",
      "  38  52  11  97 142  43  96 184 196  90  35 165 188  64 165  64 152  43\n",
      " 146 118  64 122  70  65 147 183 157 170 159 170 170 171 171 172 159 165\n",
      " 165 157 167 170 160 187 165 165 137 111 162 162 162 162 162 181 181 181\n",
      " 195 195 184 194 195 195 184 137 184 184 184 184 197 184  50  98 166  50\n",
      " 101 166  50  98 166  21 102  31  83 152  34 114  56 150  56 150  56 150\n",
      "  39 143  25  77 144  41 149  33  90 159  53 105  62 155 113 172  47  94\n",
      " 153  40  88 156 126 126  52  86 152  22  78 142  33 137  33 137 122  39\n",
      "  74 161  55 137 171 123  61 135  71 144 146  45 140  76 148  93 178  63\n",
      " 134  64 157  43 130  38  90 146  38  83 146  47 133  47  91 170  66 135\n",
      " 106  55 148  40 125  66 137 130  58 132  47 145  43 111 162  31  94 159\n",
      "  66 142  31  83 162  59  96 171  47 142 142  47 148 131  73 157 142  45\n",
      " 140  68 146 146  73 157  83 157 141 141  43 102 184  78 173 181 181 181\n",
      " 181 181 181 181 195 195 184 184 193 196 196 181 181 184 184 184  53  94\n",
      " 167  49  95 169  54  94 167  14 103  32  87 151   5   8  97  82 154  45\n",
      "  84 174  73 168  71 148 132  76 127 127  61 115 162 162  69 124  69 137\n",
      "  36 139  48 152  59 147  64 152  37 138  79 163  79 163 165 152 108 152\n",
      "  43 117 184 130  51 134  66  66  66  66 147 147 147 147  46 158  17 170\n",
      " 195 195 184 184 196 184 195 184]\n"
     ]
    }
   ],
   "source": [
    "encoder = preprocessing.LabelEncoder()\n",
    "encoder.fit(y)\n",
    "y = encoder.transform(y)\n",
    "\n",
    "# new col\n",
    "model['EncodedType'] = y\n",
    "\n",
    "print(f'Classes: {encoder.classes_}')\n",
    "print(f'Encoded: {y}')\n"
   ]
  },
  {
   "cell_type": "markdown",
   "metadata": {},
   "source": [
    "## 2"
   ]
  },
  {
   "cell_type": "code",
   "execution_count": 307,
   "metadata": {},
   "outputs": [
    {
     "data": {
      "text/plain": [
       "KNeighborsClassifier(n_neighbors=1)"
      ]
     },
     "execution_count": 307,
     "metadata": {},
     "output_type": "execute_result"
    }
   ],
   "source": [
    "\n",
    "classifier = neighbors.KNeighborsClassifier(n_neighbors=1)\n",
    "classifier.fit(x, y)"
   ]
  },
  {
   "cell_type": "code",
   "execution_count": 308,
   "metadata": {},
   "outputs": [
    {
     "name": "stdout",
     "output_type": "stream",
     "text": [
      "Prediction: 137\n",
      "Predicted classes: [190]\n",
      "Predicted classes: ['Normal']\n",
      "Predicted classes: ['Fairy']\n"
     ]
    }
   ],
   "source": [
    "prediction = classifier.predict([[ 62,63,80,80,60 ]])[0]\n",
    "print(f'Prediction: {prediction}')\n",
    "\n",
    "classes = model.loc[model['EncodedType'] == 1, 'Total'].values\n",
    "print(f'Predicted classes: {classes}')\n",
    "\n",
    "classes = model.loc[model['EncodedType'] == 1, 'Type 1'].values\n",
    "print(f'Predicted classes: {classes}')\n",
    "\n",
    "classes = model.loc[model['EncodedType'] == 1, 'Type 2'].values\n",
    "print(f'Predicted classes: {classes}')"
   ]
  },
  {
   "cell_type": "code",
   "execution_count": 309,
   "metadata": {},
   "outputs": [
    {
     "name": "stdout",
     "output_type": "stream",
     "text": [
      "Prediction: [54 94]\n"
     ]
    }
   ],
   "source": [
    "xn = [[ 44,48,65,50,64 ], [ 59,63,80,65,80 ]]\n",
    "classifier.predict(xn)\n",
    "\n",
    "classes = neighbors.KNeighborsClassifier(n_neighbors=5)\n",
    "\n",
    "classes.fit(x, y)\n",
    "\n",
    "kypred = classes.predict(x)\n",
    "\n",
    "print(f'Prediction: {classifier.predict(xn)}')"
   ]
  },
  {
   "cell_type": "code",
   "execution_count": 310,
   "metadata": {},
   "outputs": [
    {
     "data": {
      "image/png": "[encoded data removed]",
      "text/plain": [
       "<Figure size 432x288 with 1 Axes>"
      ]
     },
     "metadata": {
      "needs_background": "light"
     },
     "output_type": "display_data"
    }
   ],
   "source": [
    "res = []\n",
    "k_range = list(range(1, 50))\n",
    "for i in k_range:\n",
    "    k_classifier = neighbors.KNeighborsClassifier(n_neighbors=i)\n",
    "    k_classifier.fit(x, y)\n",
    "    k_prediction = k_classifier.predict(x)\n",
    "    res.append(metrics.accuracy_score(y, k_prediction))\n",
    "\n",
    "plt.plot(k_range, res)\n",
    "plt.show()"
   ]
  },
  {
   "cell_type": "markdown",
   "metadata": {},
   "source": [
    "## 3"
   ]
  },
  {
   "cell_type": "code",
   "execution_count": 311,
   "metadata": {},
   "outputs": [
    {
     "name": "stderr",
     "output_type": "stream",
     "text": [
      "D:\\Users\\Jurii\\AppData\\Local\\Programs\\Python\\Python39\\lib\\site-packages\\sklearn\\linear_model\\_logistic.py:763: ConvergenceWarning: lbfgs failed to converge (status=1):\n",
      "STOP: TOTAL NO. of ITERATIONS REACHED LIMIT.\n",
      "\n",
      "Increase the number of iterations (max_iter) or scale the data as shown in:\n",
      "    https://scikit-learn.org/stable/modules/preprocessing.html\n",
      "Please also refer to the documentation for alternative solver options:\n",
      "    https://scikit-learn.org/stable/modules/linear_model.html#logistic-regression\n",
      "  n_iter_i = _check_optimize_result(\n"
     ]
    },
    {
     "data": {
      "text/plain": [
       "array([184, 184, 184, 184, 184, 184, 184, 184, 184, 181, 181, 181, 184,\n",
       "         6,   6, 181, 116,   6,  62,  62, 152, 146,  94, 184, 184, 184,\n",
       "       152, 184, 184, 184, 184, 184, 158, 157, 146, 146, 152, 152, 184,\n",
       "       184, 171,  94, 184, 184,  29, 109, 152, 152, 184, 184, 184, 184,\n",
       "       184, 152, 181, 187, 119, 184, 184, 184, 184, 119, 184, 184, 184,\n",
       "       184, 146, 152, 138, 138,  92, 162,  55, 152, 152, 150, 184, 184,\n",
       "        26, 171, 115, 107, 157, 184, 184, 116, 170, 170, 162, 162, 184,\n",
       "       184, 184,  94,  94, 116, 171, 189, 185,  97, 162, 184, 162,  27,\n",
       "       171, 171, 115, 148, 181, 181, 170, 170,  89, 152, 119, 119, 146,\n",
       "       189, 184, 158,  55, 116, 109, 134, 152, 182, 170, 152, 152, 162,\n",
       "       184, 162, 184,  92, 184, 184, 184, 184, 152,  89, 152, 152, 171,\n",
       "        94, 152, 171, 184, 119, 181, 162, 182, 189, 184, 152, 184, 171,\n",
       "       181, 184, 184, 184, 184, 184, 195, 184, 199, 181, 181, 181, 181,\n",
       "       184, 184, 184, 184, 184, 184, 184, 116, 171, 171, 174, 171, 184,\n",
       "       184, 152, 171, 116, 187, 171,  29, 172, 181, 184, 184, 170,  94,\n",
       "       181, 184, 184,  22, 130, 107,  94, 152,  94, 152, 152,  94, 195,\n",
       "       195, 116, 146, 184, 152, 150,  94, 184, 184,  22, 184,  61,  61,\n",
       "       116, 152,  89, 147, 152, 152, 184, 184, 184,  85, 152, 148, 119,\n",
       "       152, 184, 184, 162, 146, 146, 181, 184, 184, 184, 174, 147, 195,\n",
       "       195, 184, 184, 116, 157, 181, 184,  18,  94, 119,  92, 184, 184,\n",
       "       146, 171, 184,  94, 146, 184, 184, 184, 184, 152, 184, 181, 184,\n",
       "       184, 184, 184, 184, 184, 184, 184, 184, 152, 152, 184, 184, 184,\n",
       "       146, 146, 116,   6, 195,   6, 152, 171,  94, 181, 146, 150, 195,\n",
       "       152, 184, 109, 165, 184, 184, 184,  52, 181, 181, 146, 184, 146,\n",
       "       146, 170, 185, 184,  13, 150, 150, 195,  55,  55,  22, 162, 146,\n",
       "       146, 184, 162, 184, 184,  61,  61,  61, 115, 184, 181, 184, 184,\n",
       "       184, 184, 195, 181, 152,  94, 184, 146, 146,  93, 150, 184,  29,\n",
       "        29, 195, 184, 184, 165, 171, 171,  94, 184, 184, 184, 184, 184,\n",
       "       152, 152, 184, 184, 184, 181, 152,  94, 116, 184, 184, 152, 184,\n",
       "       181, 181, 184, 184,  62,  94,  94, 119, 184, 184, 184, 162, 162,\n",
       "       146, 181, 184, 196,  22,  94,  94, 184, 146, 146, 146, 162, 184,\n",
       "       162,  89, 181, 148, 167, 184, 184, 184, 184, 184, 184, 147, 119,\n",
       "       165, 184, 184, 184, 184, 184, 184, 184, 184, 184, 184, 181, 176,\n",
       "       199, 162, 184, 152, 152, 152, 184, 184, 184, 181, 184, 184, 152,\n",
       "       152, 152, 116, 152, 146, 195, 184, 184, 184, 171, 184, 155,  93,\n",
       "       162, 165, 146, 181, 184, 184, 195, 181, 184, 152, 150, 150, 181,\n",
       "       181, 171, 171, 152, 150,  29, 152, 152, 184, 184, 150,  94, 184,\n",
       "       181, 146, 116,  89, 184, 107, 187,  11,  97, 184, 152, 152, 152,\n",
       "       184, 171, 184, 184, 196, 146, 146, 147, 184, 184, 184, 184, 181,\n",
       "       181, 174,  94,  94, 184, 119, 162, 146, 107, 170, 184, 184, 181,\n",
       "       170, 184, 162, 152, 194, 195, 119, 119, 165, 184, 184, 162, 162,\n",
       "       162, 162, 162, 162, 165, 184, 184, 184, 184, 181, 152, 146,  94,\n",
       "       146,  94, 181, 184, 181, 195, 181, 181, 181, 181, 181,  94, 195,\n",
       "       150, 195, 195, 170, 152, 184, 152, 152, 152, 184, 184, 184, 184,\n",
       "       184, 184, 184, 184, 143, 172, 170, 152, 184, 195, 184, 158, 157,\n",
       "       148,  94,  94, 134, 155, 146, 146,  55,  55, 152,  94,  94,  94,\n",
       "       134, 152, 152, 152, 184, 184, 165, 184, 165, 184, 181, 181, 184,\n",
       "       152, 152, 152,  55, 155, 172, 184,  61, 184, 152, 152, 181, 165,\n",
       "       162, 167, 184, 184, 184, 152, 152, 184, 184,  94, 184, 181, 181,\n",
       "       181,  97,  97, 170, 146, 184, 184, 184, 184, 152, 152, 184, 184,\n",
       "       184, 171, 171, 181, 171,   7, 181, 184, 153, 152, 184, 184, 184,\n",
       "       184, 184, 184, 184, 184, 181,  83, 162, 148, 148, 148, 195, 152,\n",
       "       174, 165,  92, 146, 184, 184, 152, 152, 152, 148, 184, 152, 152,\n",
       "       152, 146, 146, 195, 148, 152, 184, 184, 184, 195, 170, 152, 171,\n",
       "       184, 184, 184, 184, 184, 184, 184, 184, 195, 184, 195, 181, 181,\n",
       "       181, 152, 184, 146, 184, 146, 184, 184, 184, 184, 184, 184, 146,\n",
       "       146,  94, 184,  94, 170,  89, 109, 170, 170, 184, 181, 119,  94,\n",
       "       171, 152, 152, 152,  94, 181, 181, 107, 115, 199, 165, 146,  94,\n",
       "       146, 181, 152, 152, 184, 152, 184, 184, 184, 184, 195, 184, 148,\n",
       "       157,  94, 171, 171, 184,  94, 165, 119, 119, 119, 184, 184, 152,\n",
       "       184, 184, 152, 152, 184, 184, 152, 146, 107, 158,  94,  94, 195,\n",
       "       195, 146, 162, 189, 184, 187, 184], dtype=int64)"
      ]
     },
     "execution_count": 311,
     "metadata": {},
     "output_type": "execute_result"
    }
   ],
   "source": [
    "logreg = linear_model.LogisticRegression()\n",
    "logreg.fit(x, y)\n",
    "\n",
    "logreg.predict([[ 62,63,80,80,60 ]])\n",
    "y_pred = logreg.predict(x)\n",
    "\n",
    "y_pred"
   ]
  },
  {
   "cell_type": "markdown",
   "metadata": {},
   "source": [
    "## 4"
   ]
  },
  {
   "cell_type": "code",
   "execution_count": 312,
   "metadata": {},
   "outputs": [
    {
     "name": "stdout",
     "output_type": "stream",
     "text": [
      "kypred accuracy: 0.31125\n",
      "y_pred accuracy: 0.075\n"
     ]
    }
   ],
   "source": [
    "print(f'kypred accuracy: {metrics.accuracy_score(y, kypred)}')\n",
    "print(f'y_pred accuracy: {metrics.accuracy_score(y, y_pred)}')"
   ]
  }
 ],
 "metadata": {
  "interpreter": {
   "hash": "c8018a7e1044e31056f95a167a07af24d1748fd5903aa69678af1e6ca0c5d9b6"
  },
  "kernelspec": {
   "display_name": "Python 3.9.6 64-bit",
   "name": "python3"
  },
  "language_info": {
   "codemirror_mode": {
    "name": "ipython",
    "version": 3
   },
   "file_extension": ".py",
   "mimetype": "text/x-python",
   "name": "python",
   "nbconvert_exporter": "python",
   "pygments_lexer": "ipython3",
   "version": "3.9.6"
  },
  "orig_nbformat": 4
 },
 "nbformat": 4,
 "nbformat_minor": 2
}
