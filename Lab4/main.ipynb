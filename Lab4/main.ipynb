{
 "cells": [
  {
   "cell_type": "markdown",
   "metadata": {},
   "source": [
    "# Лабораторна робота #4\n",
    "## З дисципліни Інтелектуальний аналіз даних\n",
    "## Студента групи МІТ-31\n",
    "## __Єрмакова Юрія__\n"
   ]
  },
  {
   "cell_type": "markdown",
   "metadata": {},
   "source": [
    "## Базова ініціалізація"
   ]
  },
  {
   "cell_type": "code",
   "execution_count": 266,
   "metadata": {},
   "outputs": [],
   "source": [
    "import tensorflow as tf\n",
    "import matplotlib.pyplot as plt\n",
    "import numpy as np\n",
    "import pandas as pd"
   ]
  },
  {
   "cell_type": "code",
   "execution_count": 267,
   "metadata": {},
   "outputs": [],
   "source": [
    "SHAPE = (5, 5)"
   ]
  },
  {
   "cell_type": "markdown",
   "metadata": {},
   "source": [
    "1. Створити набір даних за допомогою DatasetGenerator"
   ]
  },
  {
   "cell_type": "markdown",
   "metadata": {},
   "source": [
    "## CRUD - Create & Read"
   ]
  },
  {
   "cell_type": "code",
   "execution_count": 268,
   "metadata": {},
   "outputs": [
    {
     "data": {
      "text/plain": [
       "<tf.Tensor: shape=(), dtype=float32, numpy=3.14>"
      ]
     },
     "execution_count": 268,
     "metadata": {},
     "output_type": "execute_result"
    }
   ],
   "source": [
    "scalar = tf.constant(3.14)\n",
    "scalar"
   ]
  },
  {
   "cell_type": "code",
   "execution_count": 269,
   "metadata": {},
   "outputs": [
    {
     "data": {
      "text/plain": [
       "<tf.Tensor: shape=(8,), dtype=float32, numpy=array([0.  , 0.5 , 0.75, 0.9 , 0.95, 0.97, 0.99, 1.  ], dtype=float32)>"
      ]
     },
     "execution_count": 269,
     "metadata": {},
     "output_type": "execute_result"
    }
   ],
   "source": [
    "vector = tf.constant([0, 0.5, 0.75, 0.9, 0.95, 0.97, 0.99, 1])\n",
    "vector"
   ]
  },
  {
   "cell_type": "code",
   "execution_count": 270,
   "metadata": {},
   "outputs": [
    {
     "data": {
      "text/plain": [
       "<tf.Tensor: shape=(4, 4), dtype=int32, numpy=\n",
       "array([[  1,   0,   1, 100],\n",
       "       [  0,   1,   0, 200],\n",
       "       [  1,   1,   1, 300],\n",
       "       [  0,   0,   0, 400]])>"
      ]
     },
     "execution_count": 270,
     "metadata": {},
     "output_type": "execute_result"
    }
   ],
   "source": [
    "matrix = tf.constant([\n",
    "    [1, 0, 1, 100],\n",
    "    [0, 1, 0, 200], \n",
    "    [1, 1, 1, 300], \n",
    "    [0, 0, 0, 400]\n",
    "])\n",
    "matrix"
   ]
  },
  {
   "cell_type": "code",
   "execution_count": 271,
   "metadata": {},
   "outputs": [
    {
     "data": {
      "text/plain": [
       "<tf.Tensor: shape=(5, 5), dtype=float32, numpy=\n",
       "array([[-1.864718  ,  0.802645  , -0.44321716,  0.13816683,  0.98388135],\n",
       "       [-1.115804  ,  0.40637785,  0.28259084,  0.81372464,  1.1343659 ],\n",
       "       [-0.468746  ,  0.09268467, -0.24583732, -0.1929815 , -2.2202897 ],\n",
       "       [ 0.2772542 ,  1.2350408 , -0.45407975,  0.06111892,  0.24242434],\n",
       "       [ 0.814582  ,  0.03914142, -1.0314549 ,  0.27103433, -0.67588985]],\n",
       "      dtype=float32)>"
      ]
     },
     "execution_count": 271,
     "metadata": {},
     "output_type": "execute_result"
    }
   ],
   "source": [
    "r1 = tf.random.Generator.from_seed(scalar) \n",
    "r1 = r1.normal(shape=SHAPE)\n",
    "r1"
   ]
  },
  {
   "cell_type": "code",
   "execution_count": 272,
   "metadata": {},
   "outputs": [
    {
     "data": {
      "text/plain": [
       "<tf.Tensor: shape=(5, 5), dtype=float32, numpy=\n",
       "array([[-1.864718  ,  0.802645  , -0.44321716,  0.13816683,  0.98388135],\n",
       "       [-1.115804  ,  0.40637785,  0.28259084,  0.81372464,  1.1343659 ],\n",
       "       [-0.468746  ,  0.09268467, -0.24583732, -0.1929815 , -2.2202897 ],\n",
       "       [ 0.2772542 ,  1.2350408 , -0.45407975,  0.06111892,  0.24242434],\n",
       "       [ 0.814582  ,  0.03914142, -1.0314549 ,  0.27103433, -0.67588985]],\n",
       "      dtype=float32)>"
      ]
     },
     "execution_count": 272,
     "metadata": {},
     "output_type": "execute_result"
    }
   ],
   "source": [
    "r2 = tf.random.Generator.from_seed(scalar)\n",
    "r2 = r2.normal(shape=SHAPE)\n",
    "r2"
   ]
  },
  {
   "cell_type": "code",
   "execution_count": 273,
   "metadata": {},
   "outputs": [
    {
     "data": {
      "text/plain": [
       "<tf.Tensor: shape=(5, 5), dtype=float32, numpy=\n",
       "array([[1., 1., 1., 1., 1.],\n",
       "       [1., 1., 1., 1., 1.],\n",
       "       [1., 1., 1., 1., 1.],\n",
       "       [1., 1., 1., 1., 1.],\n",
       "       [1., 1., 1., 1., 1.]], dtype=float32)>"
      ]
     },
     "execution_count": 273,
     "metadata": {},
     "output_type": "execute_result"
    }
   ],
   "source": [
    "tf.ones(SHAPE)"
   ]
  },
  {
   "cell_type": "markdown",
   "metadata": {},
   "source": [
    "## CRUD - Update"
   ]
  },
  {
   "cell_type": "code",
   "execution_count": 274,
   "metadata": {},
   "outputs": [
    {
     "data": {
      "text/plain": [
       "<tf.Variable 'Variable:0' shape=(2,) dtype=int32, numpy=array([100,   5])>"
      ]
     },
     "execution_count": 274,
     "metadata": {},
     "output_type": "execute_result"
    }
   ],
   "source": [
    "mut = tf.Variable(SHAPE)\n",
    "mut[0].assign(100) \n",
    "mut"
   ]
  },
  {
   "cell_type": "code",
   "execution_count": 275,
   "metadata": {},
   "outputs": [
    {
     "data": {
      "text/plain": [
       "<tf.Tensor: shape=(2,), dtype=int32, numpy=array([5, 5])>"
      ]
     },
     "execution_count": 275,
     "metadata": {},
     "output_type": "execute_result"
    }
   ],
   "source": [
    "const = tf.constant(SHAPE)\n",
    "const"
   ]
  },
  {
   "cell_type": "markdown",
   "metadata": {},
   "source": [
    "## CRUD - Delete"
   ]
  },
  {
   "cell_type": "code",
   "execution_count": 276,
   "metadata": {},
   "outputs": [
    {
     "name": "stdout",
     "output_type": "stream",
     "text": [
      "tf.Tensor(\n",
      "[[  1   0   1 100]\n",
      " [  0   1   0 200]\n",
      " [  1   1   1 300]\n",
      " [  0   0   0 400]], shape=(4, 4), dtype=int32)\n",
      "tf.Tensor(\n",
      "[[  1   0 100]\n",
      " [  0   1 200]\n",
      " [  1   1 300]\n",
      " [  0   0 400]], shape=(4, 3), dtype=int32)\n",
      "tf.Tensor(\n",
      "[[  1   0 100]\n",
      " [  0   1 200]\n",
      " [  1   1 300]\n",
      " [  0   0 400]], shape=(4, 3), dtype=int32)\n"
     ]
    }
   ],
   "source": [
    "def delete_col(tensor, index):\n",
    "    sub = list(range(tensor.shape[1]))\n",
    "    sub.pop(index)\n",
    "    return tf.transpose(tf.gather(tf.transpose(tensor), sub))\n",
    "\n",
    "def delete_row(tensor, index):\n",
    "    sub = list(range(tensor.shape[0]))\n",
    "    sub.pop(index)\n",
    "    return tf.gather(tensor,sub)\n",
    "\n",
    "print(matrix)\n",
    "\n",
    "matrix = delete_col(matrix, 2)\n",
    "print(matrix)\n",
    "\n",
    "delete_row(matrix, 1)\n",
    "print(matrix)"
   ]
  },
  {
   "cell_type": "markdown",
   "metadata": {},
   "source": [
    "Згенерувати набір даних для регресії та класифікації з використанням TensorFlow\n",
    "\n",
    "Здійснити графічний аналіз наборів даних за допомогою Matplotlib"
   ]
  },
  {
   "cell_type": "code",
   "execution_count": 277,
   "metadata": {},
   "outputs": [
    {
     "data": {
      "image/png": "[encoded data removed]",
      "text/plain": [
       "<Figure size 432x288 with 1 Axes>"
      ]
     },
     "metadata": {
      "needs_background": "light"
     },
     "output_type": "display_data"
    }
   ],
   "source": [
    "tf.random.set_seed(scalar)\n",
    "\n",
    "data = tf.constant(['cat', 'dog', 'rat', 'pig'])\n",
    "\n",
    "X = np.array([0, 2, 3.5, 5, 10, 11.1, 12.2, 15])\n",
    "y = np.array([0, 1, 2.0, 2.6, 5.3, 6, 6.5, 8])\n",
    "\n",
    "plt.scatter(X, y)\n",
    "\n",
    "input_shape = X[0].shape\n",
    "output_shape = y[0].shape"
   ]
  },
  {
   "cell_type": "markdown",
   "metadata": {},
   "source": [
    "#### Split data into train and test"
   ]
  },
  {
   "cell_type": "code",
   "execution_count": 278,
   "metadata": {},
   "outputs": [],
   "source": [
    "X_train = X[:40]\n",
    "y_train = y[:40]\n",
    "\n",
    "X_test = X[40:]\n",
    "y_test = y[40:]"
   ]
  },
  {
   "cell_type": "code",
   "execution_count": 279,
   "metadata": {},
   "outputs": [],
   "source": [
    "model = tf.keras.Sequential([ tf.keras.layers.Dense(1, activation='relu') ])\n",
    "\n",
    "model.compile(loss='binary_crossentropy', optimizer='Adam', metrics=['accuracy']) \n",
    "\n",
    "# traverse a set of learning rate values starting from 1e-4, increasing by 10**(epoch/20) every epoch\n",
    "lr_scheduler = tf.keras.callbacks.LearningRateScheduler(lambda epoch: 1e-4 * 10 ** (epoch / 20))\n",
    "\n",
    "# Fit the model (passing the lr_scheduler callback)\n",
    "# history = model.fit(X_train, y_train, epochs=100, callbacks=[lr_scheduler])\n",
    "\n",
    "# pd.DataFrame(history.history).plot(figsize=(10,7), xlabel='epochs')"
   ]
  },
  {
   "cell_type": "code",
   "execution_count": 281,
   "metadata": {},
   "outputs": [
    {
     "name": "stdout",
     "output_type": "stream",
     "text": [
      "Epoch 1/100\n",
      "1/1 [==============================] - 1s 564ms/step - loss: 35.0305 - accuracy: 0.2500\n",
      "Epoch 2/100\n",
      "1/1 [==============================] - 0s 2ms/step - loss: 35.0303 - accuracy: 0.1250\n",
      "Epoch 3/100\n",
      "1/1 [==============================] - 0s 3ms/step - loss: 35.0299 - accuracy: 0.1250\n",
      "Epoch 4/100\n",
      "1/1 [==============================] - 0s 3ms/step - loss: 35.0295 - accuracy: 0.1250\n",
      "Epoch 5/100\n",
      "1/1 [==============================] - 0s 2ms/step - loss: 35.0291 - accuracy: 0.1250\n",
      "Epoch 6/100\n",
      "1/1 [==============================] - 0s 2ms/step - loss: 35.0287 - accuracy: 0.1250\n",
      "Epoch 7/100\n",
      "1/1 [==============================] - 0s 3ms/step - loss: 35.0281 - accuracy: 0.1250\n",
      "Epoch 8/100\n",
      "1/1 [==============================] - 0s 2ms/step - loss: 35.0275 - accuracy: 0.1250\n",
      "Epoch 9/100\n",
      "1/1 [==============================] - 0s 2ms/step - loss: 35.0269 - accuracy: 0.1250\n",
      "Epoch 10/100\n",
      "1/1 [==============================] - 0s 4ms/step - loss: 35.0261 - accuracy: 0.1250\n",
      "Epoch 11/100\n",
      "1/1 [==============================] - 0s 2ms/step - loss: 35.0253 - accuracy: 0.1250\n",
      "Epoch 12/100\n",
      "1/1 [==============================] - 0s 3ms/step - loss: 35.0244 - accuracy: 0.1250\n",
      "Epoch 13/100\n",
      "1/1 [==============================] - 0s 2ms/step - loss: 35.0233 - accuracy: 0.1250\n",
      "Epoch 14/100\n",
      "1/1 [==============================] - 0s 3ms/step - loss: 35.0221 - accuracy: 0.1250\n",
      "Epoch 15/100\n",
      "1/1 [==============================] - 0s 3ms/step - loss: 35.0208 - accuracy: 0.1250\n",
      "Epoch 16/100\n",
      "1/1 [==============================] - 0s 3ms/step - loss: 35.0192 - accuracy: 0.1250\n",
      "Epoch 17/100\n",
      "1/1 [==============================] - 0s 2ms/step - loss: 35.0175 - accuracy: 0.1250\n",
      "Epoch 18/100\n",
      "1/1 [==============================] - 0s 3ms/step - loss: 35.0156 - accuracy: 0.1250\n",
      "Epoch 19/100\n",
      "1/1 [==============================] - 0s 3ms/step - loss: 35.0134 - accuracy: 0.1250\n",
      "Epoch 20/100\n",
      "1/1 [==============================] - 0s 996us/step - loss: 35.0110 - accuracy: 0.1250\n",
      "Epoch 21/100\n",
      "1/1 [==============================] - 0s 3ms/step - loss: 35.0082 - accuracy: 0.1250\n",
      "Epoch 22/100\n",
      "1/1 [==============================] - 0s 34ms/step - loss: 35.0050 - accuracy: 0.1250\n",
      "Epoch 23/100\n",
      "1/1 [==============================] - 0s 5ms/step - loss: 35.0014 - accuracy: 0.1250\n",
      "Epoch 24/100\n",
      "1/1 [==============================] - 0s 3ms/step - loss: 34.9973 - accuracy: 0.1250\n",
      "Epoch 25/100\n",
      "1/1 [==============================] - 0s 3ms/step - loss: 34.9926 - accuracy: 0.1250\n",
      "Epoch 26/100\n",
      "1/1 [==============================] - 0s 3ms/step - loss: 34.9872 - accuracy: 0.1250\n",
      "Epoch 27/100\n",
      "1/1 [==============================] - 0s 3ms/step - loss: 34.9809 - accuracy: 0.1250\n",
      "Epoch 28/100\n",
      "1/1 [==============================] - 0s 4ms/step - loss: 34.9736 - accuracy: 0.1250\n",
      "Epoch 29/100\n",
      "1/1 [==============================] - 0s 4ms/step - loss: 34.9649 - accuracy: 0.1250\n",
      "Epoch 30/100\n",
      "1/1 [==============================] - 0s 2ms/step - loss: 34.9545 - accuracy: 0.1250\n",
      "Epoch 31/100\n",
      "1/1 [==============================] - 0s 4ms/step - loss: 34.9415 - accuracy: 0.1250\n",
      "Epoch 32/100\n",
      "1/1 [==============================] - 0s 3ms/step - loss: 34.9248 - accuracy: 0.1250\n",
      "Epoch 33/100\n",
      "1/1 [==============================] - 0s 2ms/step - loss: 34.9014 - accuracy: 0.1250\n",
      "Epoch 34/100\n",
      "1/1 [==============================] - 0s 4ms/step - loss: 34.8618 - accuracy: 0.1250\n",
      "Epoch 35/100\n",
      "1/1 [==============================] - 0s 3ms/step - loss: 34.2661 - accuracy: 0.1250\n",
      "Epoch 36/100\n",
      "1/1 [==============================] - 0s 3ms/step - loss: 34.2599 - accuracy: 0.1250\n",
      "Epoch 37/100\n",
      "1/1 [==============================] - 0s 2ms/step - loss: 34.2533 - accuracy: 0.1250\n",
      "Epoch 38/100\n",
      "1/1 [==============================] - 0s 3ms/step - loss: 34.2460 - accuracy: 0.1250\n",
      "Epoch 39/100\n",
      "1/1 [==============================] - 0s 2ms/step - loss: 34.2378 - accuracy: 0.1250\n",
      "Epoch 40/100\n",
      "1/1 [==============================] - 0s 2ms/step - loss: 34.2282 - accuracy: 0.1250\n",
      "Epoch 41/100\n",
      "1/1 [==============================] - 0s 2ms/step - loss: 34.2163 - accuracy: 0.1250\n",
      "Epoch 42/100\n",
      "1/1 [==============================] - 0s 2ms/step - loss: 34.2001 - accuracy: 0.1250\n",
      "Epoch 43/100\n",
      "1/1 [==============================] - 0s 3ms/step - loss: 34.1712 - accuracy: 0.1250\n",
      "Epoch 44/100\n",
      "1/1 [==============================] - 0s 2ms/step - loss: 33.7979 - accuracy: 0.1250\n",
      "Epoch 45/100\n",
      "1/1 [==============================] - 0s 3ms/step - loss: 33.7967 - accuracy: 0.1250\n",
      "Epoch 46/100\n",
      "1/1 [==============================] - 0s 996us/step - loss: 33.7955 - accuracy: 0.1250\n",
      "Epoch 47/100\n",
      "1/1 [==============================] - 0s 2ms/step - loss: 33.7945 - accuracy: 0.1250\n",
      "Epoch 48/100\n",
      "1/1 [==============================] - 0s 2ms/step - loss: 33.7934 - accuracy: 0.1250\n",
      "Epoch 49/100\n",
      "1/1 [==============================] - 0s 3ms/step - loss: 33.7924 - accuracy: 0.1250\n",
      "Epoch 50/100\n",
      "1/1 [==============================] - 0s 2ms/step - loss: 33.7915 - accuracy: 0.1250\n",
      "Epoch 51/100\n",
      "1/1 [==============================] - 0s 2ms/step - loss: 33.7906 - accuracy: 0.1250\n",
      "Epoch 52/100\n",
      "1/1 [==============================] - 0s 2ms/step - loss: 33.7898 - accuracy: 0.1250\n",
      "Epoch 53/100\n",
      "1/1 [==============================] - 0s 3ms/step - loss: 33.7890 - accuracy: 0.1250\n",
      "Epoch 54/100\n",
      "1/1 [==============================] - 0s 2ms/step - loss: 33.7882 - accuracy: 0.1250\n",
      "Epoch 55/100\n",
      "1/1 [==============================] - 0s 2ms/step - loss: 33.7887 - accuracy: 0.1250\n",
      "Epoch 56/100\n",
      "1/1 [==============================] - 0s 998us/step - loss: 33.7893 - accuracy: 0.1250\n",
      "Epoch 57/100\n",
      "1/1 [==============================] - 0s 2ms/step - loss: 33.7899 - accuracy: 0.1250\n",
      "Epoch 58/100\n",
      "1/1 [==============================] - 0s 2ms/step - loss: 33.7905 - accuracy: 0.1250\n",
      "Epoch 59/100\n",
      "1/1 [==============================] - 0s 2ms/step - loss: 33.7911 - accuracy: 0.1250\n",
      "Epoch 60/100\n",
      "1/1 [==============================] - 0s 3ms/step - loss: 33.7917 - accuracy: 0.1250\n",
      "Epoch 61/100\n",
      "1/1 [==============================] - 0s 2ms/step - loss: 33.7922 - accuracy: 0.1250\n",
      "Epoch 62/100\n",
      "1/1 [==============================] - 0s 997us/step - loss: 33.7928 - accuracy: 0.1250\n",
      "Epoch 63/100\n",
      "1/1 [==============================] - 0s 2ms/step - loss: 33.7933 - accuracy: 0.1250\n",
      "Epoch 64/100\n",
      "1/1 [==============================] - 0s 2ms/step - loss: 33.7938 - accuracy: 0.1250\n",
      "Epoch 65/100\n",
      "1/1 [==============================] - 0s 2ms/step - loss: 33.7942 - accuracy: 0.1250\n",
      "Epoch 66/100\n",
      "1/1 [==============================] - 0s 2ms/step - loss: 33.7946 - accuracy: 0.1250\n",
      "Epoch 67/100\n",
      "1/1 [==============================] - 0s 2ms/step - loss: 33.7949 - accuracy: 0.1250\n",
      "Epoch 68/100\n",
      "1/1 [==============================] - 0s 2ms/step - loss: 33.7952 - accuracy: 0.1250\n",
      "Epoch 69/100\n",
      "1/1 [==============================] - 0s 2ms/step - loss: 33.7953 - accuracy: 0.1250\n",
      "Epoch 70/100\n",
      "1/1 [==============================] - 0s 2ms/step - loss: 33.7953 - accuracy: 0.1250\n",
      "Epoch 71/100\n",
      "1/1 [==============================] - 0s 3ms/step - loss: 33.7951 - accuracy: 0.1250\n",
      "Epoch 72/100\n",
      "1/1 [==============================] - 0s 996us/step - loss: 33.7948 - accuracy: 0.1250\n",
      "Epoch 73/100\n",
      "1/1 [==============================] - 0s 3ms/step - loss: 33.7943 - accuracy: 0.1250\n",
      "Epoch 74/100\n",
      "1/1 [==============================] - 0s 2ms/step - loss: 33.7936 - accuracy: 0.1250\n",
      "Epoch 75/100\n",
      "1/1 [==============================] - 0s 2ms/step - loss: 33.7928 - accuracy: 0.1250\n",
      "Epoch 76/100\n",
      "1/1 [==============================] - 0s 2ms/step - loss: 33.7917 - accuracy: 0.1250\n",
      "Epoch 77/100\n",
      "1/1 [==============================] - 0s 2ms/step - loss: 33.7904 - accuracy: 0.1250\n",
      "Epoch 78/100\n",
      "1/1 [==============================] - 0s 3ms/step - loss: 33.7889 - accuracy: 0.1250\n",
      "Epoch 79/100\n",
      "1/1 [==============================] - 0s 2ms/step - loss: 33.7872 - accuracy: 0.1250\n",
      "Epoch 80/100\n",
      "1/1 [==============================] - 0s 2ms/step - loss: 33.7853 - accuracy: 0.1250\n",
      "Epoch 81/100\n",
      "1/1 [==============================] - 0s 2ms/step - loss: 33.7833 - accuracy: 0.1250\n",
      "Epoch 82/100\n",
      "1/1 [==============================] - 0s 2ms/step - loss: 33.7811 - accuracy: 0.1250\n",
      "Epoch 83/100\n",
      "1/1 [==============================] - 0s 2ms/step - loss: 33.7796 - accuracy: 0.2500\n",
      "Epoch 84/100\n",
      "1/1 [==============================] - 0s 2ms/step - loss: 33.7796 - accuracy: 0.2500\n",
      "Epoch 85/100\n",
      "1/1 [==============================] - 0s 2ms/step - loss: 33.7796 - accuracy: 0.2500\n",
      "Epoch 86/100\n",
      "1/1 [==============================] - 0s 3ms/step - loss: 33.7796 - accuracy: 0.2500\n",
      "Epoch 87/100\n",
      "1/1 [==============================] - 0s 2ms/step - loss: 33.7796 - accuracy: 0.2500\n",
      "Epoch 88/100\n",
      "1/1 [==============================] - 0s 2ms/step - loss: 33.7796 - accuracy: 0.2500\n",
      "Epoch 89/100\n",
      "1/1 [==============================] - 0s 2ms/step - loss: 33.7796 - accuracy: 0.2500\n",
      "Epoch 90/100\n",
      "1/1 [==============================] - 0s 3ms/step - loss: 33.7796 - accuracy: 0.2500\n",
      "Epoch 91/100\n",
      "1/1 [==============================] - 0s 2ms/step - loss: 33.7796 - accuracy: 0.2500\n",
      "Epoch 92/100\n",
      "1/1 [==============================] - 0s 3ms/step - loss: 33.7796 - accuracy: 0.2500\n",
      "Epoch 93/100\n",
      "1/1 [==============================] - 0s 2ms/step - loss: 33.7796 - accuracy: 0.2500\n",
      "Epoch 94/100\n",
      "1/1 [==============================] - 0s 997us/step - loss: 33.7796 - accuracy: 0.2500\n",
      "Epoch 95/100\n",
      "1/1 [==============================] - 0s 2ms/step - loss: 33.7796 - accuracy: 0.2500\n",
      "Epoch 96/100\n",
      "1/1 [==============================] - 0s 997us/step - loss: 33.7796 - accuracy: 0.2500\n",
      "Epoch 97/100\n",
      "1/1 [==============================] - 0s 2ms/step - loss: 33.7796 - accuracy: 0.2500\n",
      "Epoch 98/100\n",
      "1/1 [==============================] - 0s 998us/step - loss: 33.7796 - accuracy: 0.2500\n",
      "Epoch 99/100\n",
      "1/1 [==============================] - 0s 2ms/step - loss: 33.7796 - accuracy: 0.2500\n",
      "Epoch 100/100\n",
      "1/1 [==============================] - 0s 2ms/step - loss: 33.7796 - accuracy: 0.2500\n"
     ]
    }
   ],
   "source": [
    "tf.random.set_seed(3)\n",
    "\n",
    "model = tf.keras.Sequential([ tf.keras.layers.Dense(4, activation='relu') ])\n",
    "\n",
    "model.compile(loss='binary_crossentropy', optimizer='Adam', metrics=[ 'accuracy' ]) \n",
    "\n",
    " # traverse a set of learning rate values starting from 1e-4, increasing by 10 ^ (epoch / 20) each epoch\n",
    "lr_scheduler = tf.keras.callbacks.LearningRateScheduler(lambda epoch: 1e-4 * 10 ** (epoch / 20))\n",
    "\n",
    "history = model.fit(X_train, y_train, epochs=100, callbacks=[ lr_scheduler ])"
   ]
  },
  {
   "cell_type": "code",
   "execution_count": null,
   "metadata": {},
   "outputs": [
    {
     "data": {
      "text/plain": [
       "<AxesSubplot:xlabel='epochs'>"
      ]
     },
     "execution_count": 265,
     "metadata": {},
     "output_type": "execute_result"
    },
    {
     "data": {
      "image/png": "[encoded data removed]",
      "text/plain": [
       "<Figure size 864x504 with 1 Axes>"
      ]
     },
     "metadata": {
      "needs_background": "light"
     },
     "output_type": "display_data"
    }
   ],
   "source": [
    "pd.DataFrame(history.history).plot(figsize=(12,7), xlabel='epoches')"
   ]
  },
  {
   "cell_type": "code",
   "execution_count": 298,
   "metadata": {},
   "outputs": [
    {
     "data": {
      "text/plain": [
       "<matplotlib.legend.Legend at 0x1ab8d9a0820>"
      ]
     },
     "execution_count": 298,
     "metadata": {},
     "output_type": "execute_result"
    },
    {
     "data": {
      "image/png": "[encoded data removed]",
      "text/plain": [
       "<Figure size 864x504 with 1 Axes>"
      ]
     },
     "metadata": {
      "needs_background": "light"
     },
     "output_type": "display_data"
    }
   ],
   "source": [
    "plt.figure(figsize=(12,7))\n",
    "plt.scatter(X_test, y_test, label='Testing', marker='s')\n",
    "plt.scatter(X_train, y_train, label='Training', marker='o')\n",
    "plt.legend()"
   ]
  }
 ],
 "metadata": {
  "interpreter": {
   "hash": "c8018a7e1044e31056f95a167a07af24d1748fd5903aa69678af1e6ca0c5d9b6"
  },
  "kernelspec": {
   "display_name": "Python 3.9.6 64-bit",
   "name": "python3"
  },
  "language_info": {
   "codemirror_mode": {
    "name": "ipython",
    "version": 3
   },
   "file_extension": ".py",
   "mimetype": "text/x-python",
   "name": "python",
   "nbconvert_exporter": "python",
   "pygments_lexer": "ipython3",
   "version": "3.9.6"
  },
  "orig_nbformat": 4
 },
 "nbformat": 4,
 "nbformat_minor": 2
}
